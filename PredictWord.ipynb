{
  "nbformat": 4,
  "nbformat_minor": 0,
  "metadata": {
    "colab": {
      "name": "PredictWord.ipynb",
      "provenance": [],
      "collapsed_sections": []
    },
    "kernelspec": {
      "name": "python3",
      "display_name": "Python 3"
    },
    "language_info": {
      "name": "python"
    },
    "accelerator": "GPU",
    "widgets": {
      "application/vnd.jupyter.widget-state+json": {
        "702b043a919b45fb8e216c141ca3d6a2": {
          "model_module": "@jupyter-widgets/controls",
          "model_name": "VBoxModel",
          "model_module_version": "1.5.0",
          "state": {
            "_view_name": "VBoxView",
            "_dom_classes": [
              "widget-interact"
            ],
            "_model_name": "VBoxModel",
            "_view_module": "@jupyter-widgets/controls",
            "_model_module_version": "1.5.0",
            "_view_count": null,
            "_view_module_version": "1.5.0",
            "box_style": "",
            "layout": "IPY_MODEL_3a042149df374666bbba23fe78882bbc",
            "_model_module": "@jupyter-widgets/controls",
            "children": [
              "IPY_MODEL_59e7b68211e440f5a1900b48a1f33b72",
              "IPY_MODEL_7a6c1d92f6b24a5d935845a0f52f5408"
            ]
          }
        },
        "3a042149df374666bbba23fe78882bbc": {
          "model_module": "@jupyter-widgets/base",
          "model_name": "LayoutModel",
          "model_module_version": "1.2.0",
          "state": {
            "_view_name": "LayoutView",
            "grid_template_rows": null,
            "right": null,
            "justify_content": null,
            "_view_module": "@jupyter-widgets/base",
            "overflow": null,
            "_model_module_version": "1.2.0",
            "_view_count": null,
            "flex_flow": null,
            "width": null,
            "min_width": null,
            "border": null,
            "align_items": null,
            "bottom": null,
            "_model_module": "@jupyter-widgets/base",
            "top": null,
            "grid_column": null,
            "overflow_y": null,
            "overflow_x": null,
            "grid_auto_flow": null,
            "grid_area": null,
            "grid_template_columns": null,
            "flex": null,
            "_model_name": "LayoutModel",
            "justify_items": null,
            "grid_row": null,
            "max_height": null,
            "align_content": null,
            "visibility": null,
            "align_self": null,
            "height": null,
            "min_height": null,
            "padding": null,
            "grid_auto_rows": null,
            "grid_gap": null,
            "max_width": null,
            "order": null,
            "_view_module_version": "1.2.0",
            "grid_template_areas": null,
            "object_position": null,
            "object_fit": null,
            "grid_auto_columns": null,
            "margin": null,
            "display": null,
            "left": null
          }
        },
        "59e7b68211e440f5a1900b48a1f33b72": {
          "model_module": "@jupyter-widgets/controls",
          "model_name": "TextModel",
          "model_module_version": "1.5.0",
          "state": {
            "_view_name": "TextView",
            "style": "IPY_MODEL_f1e46c36a9514dcfbca1717cb3188df2",
            "_dom_classes": [],
            "description": "text",
            "_model_name": "TextModel",
            "placeholder": "​",
            "_view_module": "@jupyter-widgets/controls",
            "_model_module_version": "1.5.0",
            "value": "",
            "_view_count": null,
            "disabled": false,
            "_view_module_version": "1.5.0",
            "continuous_update": true,
            "description_tooltip": null,
            "_model_module": "@jupyter-widgets/controls",
            "layout": "IPY_MODEL_a9449ead63e346a4bdf736eb2ab15592"
          }
        },
        "7a6c1d92f6b24a5d935845a0f52f5408": {
          "model_module": "@jupyter-widgets/output",
          "model_name": "OutputModel",
          "model_module_version": "1.0.0",
          "state": {
            "_view_name": "OutputView",
            "msg_id": "",
            "_dom_classes": [],
            "_model_name": "OutputModel",
            "outputs": [
              {
                "output_type": "display_data",
                "data": {
                  "application/vnd.google.colaboratory.intrinsic+json": {
                    "type": "string"
                  },
                  "text/plain": "'the'"
                },
                "metadata": {}
              }
            ],
            "_view_module": "@jupyter-widgets/output",
            "_model_module_version": "1.0.0",
            "_view_count": null,
            "_view_module_version": "1.0.0",
            "layout": "IPY_MODEL_8c1706ddf1e24cd29264e4f6d6f0570d",
            "_model_module": "@jupyter-widgets/output"
          }
        },
        "f1e46c36a9514dcfbca1717cb3188df2": {
          "model_module": "@jupyter-widgets/controls",
          "model_name": "DescriptionStyleModel",
          "model_module_version": "1.5.0",
          "state": {
            "_view_name": "StyleView",
            "_model_name": "DescriptionStyleModel",
            "description_width": "",
            "_view_module": "@jupyter-widgets/base",
            "_model_module_version": "1.5.0",
            "_view_count": null,
            "_view_module_version": "1.2.0",
            "_model_module": "@jupyter-widgets/controls"
          }
        },
        "a9449ead63e346a4bdf736eb2ab15592": {
          "model_module": "@jupyter-widgets/base",
          "model_name": "LayoutModel",
          "model_module_version": "1.2.0",
          "state": {
            "_view_name": "LayoutView",
            "grid_template_rows": null,
            "right": null,
            "justify_content": null,
            "_view_module": "@jupyter-widgets/base",
            "overflow": null,
            "_model_module_version": "1.2.0",
            "_view_count": null,
            "flex_flow": null,
            "width": null,
            "min_width": null,
            "border": null,
            "align_items": null,
            "bottom": null,
            "_model_module": "@jupyter-widgets/base",
            "top": null,
            "grid_column": null,
            "overflow_y": null,
            "overflow_x": null,
            "grid_auto_flow": null,
            "grid_area": null,
            "grid_template_columns": null,
            "flex": null,
            "_model_name": "LayoutModel",
            "justify_items": null,
            "grid_row": null,
            "max_height": null,
            "align_content": null,
            "visibility": null,
            "align_self": null,
            "height": null,
            "min_height": null,
            "padding": null,
            "grid_auto_rows": null,
            "grid_gap": null,
            "max_width": null,
            "order": null,
            "_view_module_version": "1.2.0",
            "grid_template_areas": null,
            "object_position": null,
            "object_fit": null,
            "grid_auto_columns": null,
            "margin": null,
            "display": null,
            "left": null
          }
        },
        "8c1706ddf1e24cd29264e4f6d6f0570d": {
          "model_module": "@jupyter-widgets/base",
          "model_name": "LayoutModel",
          "model_module_version": "1.2.0",
          "state": {
            "_view_name": "LayoutView",
            "grid_template_rows": null,
            "right": null,
            "justify_content": null,
            "_view_module": "@jupyter-widgets/base",
            "overflow": null,
            "_model_module_version": "1.2.0",
            "_view_count": null,
            "flex_flow": null,
            "width": null,
            "min_width": null,
            "border": null,
            "align_items": null,
            "bottom": null,
            "_model_module": "@jupyter-widgets/base",
            "top": null,
            "grid_column": null,
            "overflow_y": null,
            "overflow_x": null,
            "grid_auto_flow": null,
            "grid_area": null,
            "grid_template_columns": null,
            "flex": null,
            "_model_name": "LayoutModel",
            "justify_items": null,
            "grid_row": null,
            "max_height": null,
            "align_content": null,
            "visibility": null,
            "align_self": null,
            "height": null,
            "min_height": null,
            "padding": null,
            "grid_auto_rows": null,
            "grid_gap": null,
            "max_width": null,
            "order": null,
            "_view_module_version": "1.2.0",
            "grid_template_areas": null,
            "object_position": null,
            "object_fit": null,
            "grid_auto_columns": null,
            "margin": null,
            "display": null,
            "left": null
          }
        }
      }
    }
  },
  "cells": [
    {
      "cell_type": "markdown",
      "metadata": {
        "id": "hHV5PL1DQNUv"
      },
      "source": [
        "# Predicting next word\n",
        "\n",
        "The main idea here is to build a minimal model able to predict the next word based on typing words.\n",
        "\n",
        "As result, it's expected:\n",
        "\n",
        "  - create a step by step guideline for basic NLP research;\n",
        "  - comparing different models;\n",
        "  - getting the best model;\n",
        "  - define a function to test the model interactively."
      ]
    },
    {
      "cell_type": "markdown",
      "metadata": {
        "id": "tupiFtHPRKxP"
      },
      "source": [
        "### 1) Importing essential libraries"
      ]
    },
    {
      "cell_type": "code",
      "metadata": {
        "id": "i2bshbGoOTb2"
      },
      "source": [
        "from urllib.request import urlopen\n",
        "\n",
        "from nltk.tokenize import word_tokenize\n",
        "\n",
        "import numpy as np\n",
        "\n",
        "import tensorflow as tf\n",
        "\n",
        "import nltk\n",
        "\n",
        "import re\n",
        "\n",
        "import pickle"
      ],
      "execution_count": 1,
      "outputs": []
    },
    {
      "cell_type": "code",
      "metadata": {
        "colab": {
          "base_uri": "https://localhost:8080/"
        },
        "id": "bcl0NbGgNmYQ",
        "outputId": "e155dd97-2756-42a7-c52a-47e92f7f4b67"
      },
      "source": [
        "nltk.download('punkt')"
      ],
      "execution_count": 2,
      "outputs": [
        {
          "output_type": "stream",
          "name": "stdout",
          "text": [
            "[nltk_data] Downloading package punkt to /root/nltk_data...\n",
            "[nltk_data]   Unzipping tokenizers/punkt.zip.\n"
          ]
        },
        {
          "output_type": "execute_result",
          "data": {
            "text/plain": [
              "True"
            ]
          },
          "metadata": {},
          "execution_count": 2
        }
      ]
    },
    {
      "cell_type": "markdown",
      "metadata": {
        "id": "y37fg0tBRSJy"
      },
      "source": [
        "### 2) Importing the data from [Gutenberg](https://www.gutenberg.org) project\n",
        "\n",
        "Here will be used data from 5 books.\n",
        "\n",
        "All texts will be used in the direct form from the site."
      ]
    },
    {
      "cell_type": "code",
      "metadata": {
        "id": "ZKU5nuROM8EJ",
        "colab": {
          "base_uri": "https://localhost:8080/"
        },
        "outputId": "f6493651-3711-4fe4-db03-b50761f230cc"
      },
      "source": [
        "data1 = urlopen('https://www.gutenberg.org/cache/epub/66235/pg66235.txt')\n",
        "text1 = (data1.read()).decode('utf-8')\n",
        "\n",
        "data2 = urlopen('https://www.gutenberg.org/cache/epub/66234/pg66234.txt')\n",
        "text2 = (data2.read()).decode('utf-8')\n",
        "\n",
        "data3 = urlopen('https://www.gutenberg.org/cache/epub/66232/pg66232.txt')\n",
        "text3 = (data3.read()).decode('utf-8')\n",
        "\n",
        "data4 = urlopen('https://www.gutenberg.org/cache/epub/66231/pg66231.txt')\n",
        "text4 = (data4.read()).decode('utf-8')\n",
        "\n",
        "data5 = urlopen('https://www.gutenberg.org/cache/epub/66230/pg66230.txt')\n",
        "text5 = (data5.read()).decode('utf-8')\n",
        "\n",
        "text = text1 + text2 + text3 + text4 + text5\n",
        "\n",
        "del text1, text2, text3, text4, text5 # delete to prevent storage unnecessary\n",
        "len(text)"
      ],
      "execution_count": 3,
      "outputs": [
        {
          "output_type": "execute_result",
          "data": {
            "text/plain": [
              "606792"
            ]
          },
          "metadata": {},
          "execution_count": 3
        }
      ]
    },
    {
      "cell_type": "markdown",
      "metadata": {
        "id": "2lzsHwj4R5cD"
      },
      "source": [
        "### 3) Basic preprocessing\n",
        "\n",
        "- Cleaning texts\n",
        "- Creating tokens\n",
        "- Text to numeric sequences"
      ]
    },
    {
      "cell_type": "code",
      "metadata": {
        "colab": {
          "base_uri": "https://localhost:8080/"
        },
        "id": "MIzJRmqfo7Be",
        "outputId": "adfe55b2-6e47-4ec6-eb5c-190c4bec8e7e"
      },
      "source": [
        "%cd drive/MyDrive/Colab\\ Notebooks/NLP"
      ],
      "execution_count": 4,
      "outputs": [
        {
          "output_type": "stream",
          "name": "stdout",
          "text": [
            "/content/drive/MyDrive/Colab Notebooks/NLP\n"
          ]
        }
      ]
    },
    {
      "cell_type": "code",
      "metadata": {
        "colab": {
          "base_uri": "https://localhost:8080/",
          "height": 35
        },
        "id": "-MP3YKJ_pJAa",
        "outputId": "88c074f5-691b-4cea-89d6-d2809b6d8a9d"
      },
      "source": [
        "%pwd"
      ],
      "execution_count": 5,
      "outputs": [
        {
          "output_type": "execute_result",
          "data": {
            "application/vnd.google.colaboratory.intrinsic+json": {
              "type": "string"
            },
            "text/plain": [
              "'/content/drive/MyDrive/Colab Notebooks/NLP'"
            ]
          },
          "metadata": {},
          "execution_count": 5
        }
      ]
    },
    {
      "cell_type": "code",
      "metadata": {
        "id": "Aso1bTQKNswm"
      },
      "source": [
        "cleaned = re.sub(r'\\W+', ' ', text).lower()\n",
        "tokens = word_tokenize(cleaned)\n",
        "\n",
        "train_len = 3+1\n",
        "text_sequences = []\n",
        "for i in range(train_len,len(tokens)):\n",
        "    seq = tokens[i-train_len:i]\n",
        "    text_sequences.append(seq)\n",
        "\n",
        "sequences = {}\n",
        "count = 1\n",
        "for i in range(len(tokens)):\n",
        "    if tokens[i] not in sequences:\n",
        "        sequences[tokens[i]] = count\n",
        "        count += 1\n",
        "      \n",
        "tokenizer = tf.keras.preprocessing.text.Tokenizer()\n",
        "tokenizer.fit_on_texts(text_sequences)\n",
        "# saving the tokenizer for predict function.\n",
        "pickle.dump(tokenizer, open('tokenizer.pkl', 'wb'))\n",
        "\n",
        "sequences = tokenizer.texts_to_sequences(text_sequences) \n",
        " \n",
        "vocabulary_size = len(tokenizer.word_counts)+1\n",
        "\n",
        "n_sequences = np.empty([len(sequences),train_len], dtype='int32')\n",
        "for i in range(len(sequences)):\n",
        "    n_sequences[i] = sequences[i]"
      ],
      "execution_count": 6,
      "outputs": []
    },
    {
      "cell_type": "code",
      "metadata": {
        "colab": {
          "base_uri": "https://localhost:8080/"
        },
        "id": "IpTXu6QZOWI4",
        "outputId": "c5f64016-2901-4406-a9e1-9288e86d807e"
      },
      "source": [
        "# Examples of sequences:\n",
        "\n",
        "for n in range(2):\n",
        "    k = np.random.choice(range(len(n_sequences)))\n",
        "    for i in sequences[k]:\n",
        "        print(tokens[i])\n",
        "    print('\\n')"
      ],
      "execution_count": 7,
      "outputs": [
        {
          "output_type": "stream",
          "name": "stdout",
          "text": [
            "to\n",
            "the\n",
            "wait\n",
            "ebook\n",
            "\n",
            "\n",
            "any\n",
            "the\n",
            "you\n",
            "gutenberg\n",
            "\n",
            "\n"
          ]
        }
      ]
    },
    {
      "cell_type": "markdown",
      "metadata": {
        "id": "aPySouqrS0CC"
      },
      "source": [
        "### 4) Dividing data\n",
        "\n",
        "- training and target datasets"
      ]
    },
    {
      "cell_type": "code",
      "metadata": {
        "colab": {
          "base_uri": "https://localhost:8080/"
        },
        "id": "UCU2xYI2Oj2u",
        "outputId": "7a56d81a-f345-4e73-ba69-998655ff73e4"
      },
      "source": [
        "train = n_sequences[:, :-1]\n",
        "target = n_sequences[:, -1]\n",
        "target = tf.keras.utils.to_categorical(target, num_classes = vocabulary_size)\n",
        "seq_len = train.shape[1]\n",
        "print(train.shape)\n",
        "print(target[0])"
      ],
      "execution_count": 8,
      "outputs": [
        {
          "output_type": "stream",
          "name": "stdout",
          "text": [
            "(105834, 3)\n",
            "[0. 0. 0. ... 0. 0. 0.]\n"
          ]
        }
      ]
    },
    {
      "cell_type": "markdown",
      "metadata": {
        "id": "NIpekoYvTIRO"
      },
      "source": [
        "### 5) Creating a model\n",
        "\n",
        "- model1: minimal model"
      ]
    },
    {
      "cell_type": "code",
      "metadata": {
        "colab": {
          "base_uri": "https://localhost:8080/"
        },
        "id": "C33HI80V36Sb",
        "outputId": "d1b03d95-43b7-4c68-dc66-5e5c41c0461f"
      },
      "source": [
        "model0 = tf.keras.models.Sequential()\n",
        "model0.add(tf.keras.layers.Embedding(vocabulary_size, 10, input_length=3))\n",
        "model0.add(tf.keras.layers.LSTM(1000, return_sequences=True))\n",
        "model0.add(tf.keras.layers.LSTM(1000))\n",
        "model0.add(tf.keras.layers.Dense(1000, activation=\"relu\"))\n",
        "model0.add(tf.keras.layers.Dense(vocabulary_size, activation='softmax'))\n",
        "\n",
        "print(model0.summary())\n",
        "\n",
        "model0.compile(loss='categorical_crossentropy', optimizer= tf.keras.optimizers.Adam(learning_rate=0.001), metrics=['accuracy'])"
      ],
      "execution_count": 9,
      "outputs": [
        {
          "output_type": "stream",
          "name": "stdout",
          "text": [
            "Model: \"sequential\"\n",
            "_________________________________________________________________\n",
            "Layer (type)                 Output Shape              Param #   \n",
            "=================================================================\n",
            "embedding (Embedding)        (None, 3, 10)             95200     \n",
            "_________________________________________________________________\n",
            "lstm (LSTM)                  (None, 3, 1000)           4044000   \n",
            "_________________________________________________________________\n",
            "lstm_1 (LSTM)                (None, 1000)              8004000   \n",
            "_________________________________________________________________\n",
            "dense (Dense)                (None, 1000)              1001000   \n",
            "_________________________________________________________________\n",
            "dense_1 (Dense)              (None, 9520)              9529520   \n",
            "=================================================================\n",
            "Total params: 22,673,720\n",
            "Trainable params: 22,673,720\n",
            "Non-trainable params: 0\n",
            "_________________________________________________________________\n",
            "None\n"
          ]
        }
      ]
    },
    {
      "cell_type": "code",
      "metadata": {
        "id": "m9lvwlEa4r3P"
      },
      "source": [
        "# Essential callbacks to follow the training model\n",
        "\n",
        "es = tf.keras.callbacks.EarlyStopping(monitor = 'loss', min_delta = 1e-4, patience = 5, verbose = 1)\n",
        "rlr = tf.keras.callbacks.ReduceLROnPlateau(monitor = 'loss', factor = 0.2, patience = 3, min_lr=0.0001, verbose = 1)\n",
        "mcp = tf.keras.callbacks.ModelCheckpoint(filepath = 'nextword0.h5', monitor = 'accuracy', save_best_only = True, verbose = 1, mode='auto')"
      ],
      "execution_count": 10,
      "outputs": []
    },
    {
      "cell_type": "code",
      "metadata": {
        "id": "Ht0Odm1k545f",
        "colab": {
          "base_uri": "https://localhost:8080/"
        },
        "outputId": "95c77ac0-4b5b-4822-b5c5-848ee507e2f7"
      },
      "source": [
        "history0 = model0.fit(train, target, epochs=80, validation_split=0.2, verbose=1, callbacks=[es, rlr, mcp])"
      ],
      "execution_count": 11,
      "outputs": [
        {
          "output_type": "stream",
          "name": "stdout",
          "text": [
            "Epoch 1/80\n",
            "2646/2646 [==============================] - 104s 36ms/step - loss: 6.7345 - accuracy: 0.0819 - val_loss: 6.3808 - val_accuracy: 0.1028\n",
            "\n",
            "Epoch 00001: accuracy improved from -inf to 0.08187, saving model to nextword0.h5\n",
            "Epoch 2/80\n",
            "2646/2646 [==============================] - 94s 36ms/step - loss: 6.0958 - accuracy: 0.1157 - val_loss: 6.2018 - val_accuracy: 0.1360\n",
            "\n",
            "Epoch 00002: accuracy improved from 0.08187 to 0.11571, saving model to nextword0.h5\n",
            "Epoch 3/80\n",
            "2646/2646 [==============================] - 94s 36ms/step - loss: 5.6721 - accuracy: 0.1370 - val_loss: 6.1182 - val_accuracy: 0.1484\n",
            "\n",
            "Epoch 00003: accuracy improved from 0.11571 to 0.13697, saving model to nextword0.h5\n",
            "Epoch 4/80\n",
            "2646/2646 [==============================] - 94s 36ms/step - loss: 5.3331 - accuracy: 0.1525 - val_loss: 6.1403 - val_accuracy: 0.1605\n",
            "\n",
            "Epoch 00004: accuracy improved from 0.13697 to 0.15250, saving model to nextword0.h5\n",
            "Epoch 5/80\n",
            "2646/2646 [==============================] - 95s 36ms/step - loss: 5.0406 - accuracy: 0.1675 - val_loss: 6.1516 - val_accuracy: 0.1815\n",
            "\n",
            "Epoch 00005: accuracy improved from 0.15250 to 0.16747, saving model to nextword0.h5\n",
            "Epoch 6/80\n",
            "2646/2646 [==============================] - 94s 36ms/step - loss: 4.7566 - accuracy: 0.1820 - val_loss: 6.0959 - val_accuracy: 0.2037\n",
            "\n",
            "Epoch 00006: accuracy improved from 0.16747 to 0.18202, saving model to nextword0.h5\n",
            "Epoch 7/80\n",
            "2646/2646 [==============================] - 94s 35ms/step - loss: 4.4723 - accuracy: 0.2009 - val_loss: 6.1582 - val_accuracy: 0.2338\n",
            "\n",
            "Epoch 00007: accuracy improved from 0.18202 to 0.20086, saving model to nextword0.h5\n",
            "Epoch 8/80\n",
            "2646/2646 [==============================] - 95s 36ms/step - loss: 4.1910 - accuracy: 0.2213 - val_loss: 6.3266 - val_accuracy: 0.2559\n",
            "\n",
            "Epoch 00008: accuracy improved from 0.20086 to 0.22129, saving model to nextword0.h5\n",
            "Epoch 9/80\n",
            "2646/2646 [==============================] - 95s 36ms/step - loss: 3.9166 - accuracy: 0.2426 - val_loss: 6.5953 - val_accuracy: 0.2801\n",
            "\n",
            "Epoch 00009: accuracy improved from 0.22129 to 0.24257, saving model to nextword0.h5\n",
            "Epoch 10/80\n",
            "2646/2646 [==============================] - 94s 35ms/step - loss: 3.6494 - accuracy: 0.2642 - val_loss: 6.9838 - val_accuracy: 0.2963\n",
            "\n",
            "Epoch 00010: accuracy improved from 0.24257 to 0.26421, saving model to nextword0.h5\n",
            "Epoch 11/80\n",
            "2646/2646 [==============================] - 94s 35ms/step - loss: 3.3903 - accuracy: 0.2924 - val_loss: 7.3668 - val_accuracy: 0.3016\n",
            "\n",
            "Epoch 00011: accuracy improved from 0.26421 to 0.29236, saving model to nextword0.h5\n",
            "Epoch 12/80\n",
            "2646/2646 [==============================] - 94s 36ms/step - loss: 3.1375 - accuracy: 0.3246 - val_loss: 7.9227 - val_accuracy: 0.3087\n",
            "\n",
            "Epoch 00012: accuracy improved from 0.29236 to 0.32458, saving model to nextword0.h5\n",
            "Epoch 13/80\n",
            "2646/2646 [==============================] - 95s 36ms/step - loss: 2.8983 - accuracy: 0.3582 - val_loss: 8.3824 - val_accuracy: 0.3124\n",
            "\n",
            "Epoch 00013: accuracy improved from 0.32458 to 0.35817, saving model to nextword0.h5\n",
            "Epoch 14/80\n",
            "2646/2646 [==============================] - 94s 35ms/step - loss: 2.6635 - accuracy: 0.3973 - val_loss: 8.7747 - val_accuracy: 0.3119\n",
            "\n",
            "Epoch 00014: accuracy improved from 0.35817 to 0.39726, saving model to nextword0.h5\n",
            "Epoch 15/80\n",
            "2646/2646 [==============================] - 94s 35ms/step - loss: 2.4385 - accuracy: 0.4359 - val_loss: 9.4585 - val_accuracy: 0.3115\n",
            "\n",
            "Epoch 00015: accuracy improved from 0.39726 to 0.43594, saving model to nextword0.h5\n",
            "Epoch 16/80\n",
            "2646/2646 [==============================] - 94s 36ms/step - loss: 2.2273 - accuracy: 0.4723 - val_loss: 9.6873 - val_accuracy: 0.3102\n",
            "\n",
            "Epoch 00016: accuracy improved from 0.43594 to 0.47232, saving model to nextword0.h5\n",
            "Epoch 17/80\n",
            "2646/2646 [==============================] - 94s 36ms/step - loss: 2.0226 - accuracy: 0.5105 - val_loss: 10.6047 - val_accuracy: 0.3141\n",
            "\n",
            "Epoch 00017: accuracy improved from 0.47232 to 0.51052, saving model to nextword0.h5\n",
            "Epoch 18/80\n",
            "2646/2646 [==============================] - 93s 35ms/step - loss: 1.8283 - accuracy: 0.5491 - val_loss: 11.0636 - val_accuracy: 0.3096\n",
            "\n",
            "Epoch 00018: accuracy improved from 0.51052 to 0.54910, saving model to nextword0.h5\n",
            "Epoch 19/80\n",
            "2646/2646 [==============================] - 94s 36ms/step - loss: 1.6414 - accuracy: 0.5855 - val_loss: 11.8838 - val_accuracy: 0.3089\n",
            "\n",
            "Epoch 00019: accuracy improved from 0.54910 to 0.58549, saving model to nextword0.h5\n",
            "Epoch 20/80\n",
            "2646/2646 [==============================] - 94s 36ms/step - loss: 1.4746 - accuracy: 0.6205 - val_loss: 12.4751 - val_accuracy: 0.3099\n",
            "\n",
            "Epoch 00020: accuracy improved from 0.58549 to 0.62054, saving model to nextword0.h5\n",
            "Epoch 21/80\n",
            "2646/2646 [==============================] - 94s 36ms/step - loss: 1.3177 - accuracy: 0.6554 - val_loss: 13.0340 - val_accuracy: 0.3086\n",
            "\n",
            "Epoch 00021: accuracy improved from 0.62054 to 0.65540, saving model to nextword0.h5\n",
            "Epoch 22/80\n",
            "2646/2646 [==============================] - 93s 35ms/step - loss: 1.1746 - accuracy: 0.6867 - val_loss: 13.6669 - val_accuracy: 0.3110\n",
            "\n",
            "Epoch 00022: accuracy improved from 0.65540 to 0.68673, saving model to nextword0.h5\n",
            "Epoch 23/80\n",
            "2646/2646 [==============================] - 93s 35ms/step - loss: 1.0537 - accuracy: 0.7180 - val_loss: 14.3229 - val_accuracy: 0.3072\n",
            "\n",
            "Epoch 00023: accuracy improved from 0.68673 to 0.71797, saving model to nextword0.h5\n",
            "Epoch 24/80\n",
            "2646/2646 [==============================] - 93s 35ms/step - loss: 0.9490 - accuracy: 0.7448 - val_loss: 14.5890 - val_accuracy: 0.3104\n",
            "\n",
            "Epoch 00024: accuracy improved from 0.71797 to 0.74482, saving model to nextword0.h5\n",
            "Epoch 25/80\n",
            "2646/2646 [==============================] - 94s 36ms/step - loss: 0.8594 - accuracy: 0.7648 - val_loss: 15.3501 - val_accuracy: 0.3084\n",
            "\n",
            "Epoch 00025: accuracy improved from 0.74482 to 0.76482, saving model to nextword0.h5\n",
            "Epoch 26/80\n",
            "2646/2646 [==============================] - 94s 35ms/step - loss: 0.7816 - accuracy: 0.7858 - val_loss: 15.6156 - val_accuracy: 0.3099\n",
            "\n",
            "Epoch 00026: accuracy improved from 0.76482 to 0.78584, saving model to nextword0.h5\n",
            "Epoch 27/80\n",
            "2646/2646 [==============================] - 93s 35ms/step - loss: 0.7144 - accuracy: 0.8023 - val_loss: 15.6571 - val_accuracy: 0.3115\n",
            "\n",
            "Epoch 00027: accuracy improved from 0.78584 to 0.80234, saving model to nextword0.h5\n",
            "Epoch 28/80\n",
            "2646/2646 [==============================] - 93s 35ms/step - loss: 0.6650 - accuracy: 0.8147 - val_loss: 15.8972 - val_accuracy: 0.3081\n",
            "\n",
            "Epoch 00028: accuracy improved from 0.80234 to 0.81474, saving model to nextword0.h5\n",
            "Epoch 29/80\n",
            "2646/2646 [==============================] - 94s 36ms/step - loss: 0.6248 - accuracy: 0.8265 - val_loss: 16.0674 - val_accuracy: 0.3081\n",
            "\n",
            "Epoch 00029: accuracy improved from 0.81474 to 0.82648, saving model to nextword0.h5\n",
            "Epoch 30/80\n",
            "2646/2646 [==============================] - 95s 36ms/step - loss: 0.5876 - accuracy: 0.8352 - val_loss: 16.0744 - val_accuracy: 0.3059\n",
            "\n",
            "Epoch 00030: accuracy improved from 0.82648 to 0.83517, saving model to nextword0.h5\n",
            "Epoch 31/80\n",
            "2646/2646 [==============================] - 94s 35ms/step - loss: 0.5581 - accuracy: 0.8422 - val_loss: 15.9587 - val_accuracy: 0.3068\n",
            "\n",
            "Epoch 00031: accuracy improved from 0.83517 to 0.84224, saving model to nextword0.h5\n",
            "Epoch 32/80\n",
            "2646/2646 [==============================] - 93s 35ms/step - loss: 0.5286 - accuracy: 0.8481 - val_loss: 16.0363 - val_accuracy: 0.3060\n",
            "\n",
            "Epoch 00032: accuracy improved from 0.84224 to 0.84813, saving model to nextword0.h5\n",
            "Epoch 33/80\n",
            "2646/2646 [==============================] - 93s 35ms/step - loss: 0.5118 - accuracy: 0.8531 - val_loss: 16.1163 - val_accuracy: 0.3095\n",
            "\n",
            "Epoch 00033: accuracy improved from 0.84813 to 0.85311, saving model to nextword0.h5\n",
            "Epoch 34/80\n",
            "2646/2646 [==============================] - 94s 36ms/step - loss: 0.4907 - accuracy: 0.8558 - val_loss: 16.4429 - val_accuracy: 0.3094\n",
            "\n",
            "Epoch 00034: accuracy improved from 0.85311 to 0.85579, saving model to nextword0.h5\n",
            "Epoch 35/80\n",
            "2646/2646 [==============================] - 93s 35ms/step - loss: 0.4730 - accuracy: 0.8615 - val_loss: 16.3967 - val_accuracy: 0.3090\n",
            "\n",
            "Epoch 00035: accuracy improved from 0.85579 to 0.86153, saving model to nextword0.h5\n",
            "Epoch 36/80\n",
            "2646/2646 [==============================] - 94s 36ms/step - loss: 0.4624 - accuracy: 0.8622 - val_loss: 16.9809 - val_accuracy: 0.3101\n",
            "\n",
            "Epoch 00036: accuracy improved from 0.86153 to 0.86219, saving model to nextword0.h5\n",
            "Epoch 37/80\n",
            "2646/2646 [==============================] - 95s 36ms/step - loss: 0.4447 - accuracy: 0.8664 - val_loss: 16.3003 - val_accuracy: 0.3088\n",
            "\n",
            "Epoch 00037: accuracy improved from 0.86219 to 0.86638, saving model to nextword0.h5\n",
            "Epoch 38/80\n",
            "2646/2646 [==============================] - 95s 36ms/step - loss: 0.4339 - accuracy: 0.8683 - val_loss: 16.4849 - val_accuracy: 0.3101\n",
            "\n",
            "Epoch 00038: accuracy improved from 0.86638 to 0.86834, saving model to nextword0.h5\n",
            "Epoch 39/80\n",
            "2646/2646 [==============================] - 94s 36ms/step - loss: 0.4205 - accuracy: 0.8712 - val_loss: 16.3014 - val_accuracy: 0.3096\n",
            "\n",
            "Epoch 00039: accuracy improved from 0.86834 to 0.87120, saving model to nextword0.h5\n",
            "Epoch 40/80\n",
            "2646/2646 [==============================] - 93s 35ms/step - loss: 0.4094 - accuracy: 0.8724 - val_loss: 16.5008 - val_accuracy: 0.3088\n",
            "\n",
            "Epoch 00040: accuracy improved from 0.87120 to 0.87238, saving model to nextword0.h5\n",
            "Epoch 41/80\n",
            "2646/2646 [==============================] - 93s 35ms/step - loss: 0.4020 - accuracy: 0.8727 - val_loss: 17.2246 - val_accuracy: 0.3084\n",
            "\n",
            "Epoch 00041: accuracy improved from 0.87238 to 0.87270, saving model to nextword0.h5\n",
            "Epoch 42/80\n",
            "2646/2646 [==============================] - 93s 35ms/step - loss: 0.3944 - accuracy: 0.8750 - val_loss: 16.1137 - val_accuracy: 0.3120\n",
            "\n",
            "Epoch 00042: accuracy improved from 0.87270 to 0.87500, saving model to nextword0.h5\n",
            "Epoch 43/80\n",
            "2646/2646 [==============================] - 94s 35ms/step - loss: 0.3836 - accuracy: 0.8759 - val_loss: 16.0557 - val_accuracy: 0.3099\n",
            "\n",
            "Epoch 00043: accuracy improved from 0.87500 to 0.87585, saving model to nextword0.h5\n",
            "Epoch 44/80\n",
            "2646/2646 [==============================] - 94s 35ms/step - loss: 0.3827 - accuracy: 0.8762 - val_loss: 16.1689 - val_accuracy: 0.3093\n",
            "\n",
            "Epoch 00044: accuracy improved from 0.87585 to 0.87615, saving model to nextword0.h5\n",
            "Epoch 45/80\n",
            "2646/2646 [==============================] - 94s 35ms/step - loss: 0.3715 - accuracy: 0.8771 - val_loss: 15.8674 - val_accuracy: 0.3097\n",
            "\n",
            "Epoch 00045: accuracy improved from 0.87615 to 0.87714, saving model to nextword0.h5\n",
            "Epoch 46/80\n",
            "2646/2646 [==============================] - 94s 35ms/step - loss: 0.3599 - accuracy: 0.8799 - val_loss: 16.3832 - val_accuracy: 0.3111\n",
            "\n",
            "Epoch 00046: accuracy improved from 0.87714 to 0.87994, saving model to nextword0.h5\n",
            "Epoch 47/80\n",
            "2646/2646 [==============================] - 94s 35ms/step - loss: 0.3644 - accuracy: 0.8776 - val_loss: 16.3934 - val_accuracy: 0.3091\n",
            "\n",
            "Epoch 00047: accuracy did not improve from 0.87994\n",
            "Epoch 48/80\n",
            "2646/2646 [==============================] - 94s 36ms/step - loss: 0.3555 - accuracy: 0.8795 - val_loss: 15.9904 - val_accuracy: 0.3095\n",
            "\n",
            "Epoch 00048: accuracy did not improve from 0.87994\n",
            "Epoch 49/80\n",
            "2646/2646 [==============================] - 94s 36ms/step - loss: 0.3488 - accuracy: 0.8807 - val_loss: 16.5479 - val_accuracy: 0.3090\n",
            "\n",
            "Epoch 00049: accuracy improved from 0.87994 to 0.88067, saving model to nextword0.h5\n",
            "Epoch 50/80\n",
            "2646/2646 [==============================] - 94s 35ms/step - loss: 0.3480 - accuracy: 0.8800 - val_loss: 16.3547 - val_accuracy: 0.3101\n",
            "\n",
            "Epoch 00050: accuracy did not improve from 0.88067\n",
            "Epoch 51/80\n",
            "2646/2646 [==============================] - 94s 35ms/step - loss: 0.3443 - accuracy: 0.8795 - val_loss: 16.4083 - val_accuracy: 0.3100\n",
            "\n",
            "Epoch 00051: accuracy did not improve from 0.88067\n",
            "Epoch 52/80\n",
            "2646/2646 [==============================] - 94s 36ms/step - loss: 0.3336 - accuracy: 0.8820 - val_loss: 16.6419 - val_accuracy: 0.3115\n",
            "\n",
            "Epoch 00052: accuracy improved from 0.88067 to 0.88197, saving model to nextword0.h5\n",
            "Epoch 53/80\n",
            "2646/2646 [==============================] - 94s 36ms/step - loss: 0.3336 - accuracy: 0.8814 - val_loss: 16.4807 - val_accuracy: 0.3111\n",
            "\n",
            "Epoch 00053: accuracy did not improve from 0.88197\n",
            "Epoch 54/80\n",
            "2646/2646 [==============================] - 94s 35ms/step - loss: 0.3292 - accuracy: 0.8816 - val_loss: 16.1501 - val_accuracy: 0.3110\n",
            "\n",
            "Epoch 00054: accuracy did not improve from 0.88197\n",
            "Epoch 55/80\n",
            "2646/2646 [==============================] - 94s 35ms/step - loss: 0.3247 - accuracy: 0.8813 - val_loss: 16.5422 - val_accuracy: 0.3099\n",
            "\n",
            "Epoch 00055: accuracy did not improve from 0.88197\n",
            "Epoch 56/80\n",
            "2646/2646 [==============================] - 94s 35ms/step - loss: 0.3213 - accuracy: 0.8834 - val_loss: 16.7461 - val_accuracy: 0.3110\n",
            "\n",
            "Epoch 00056: accuracy improved from 0.88197 to 0.88337, saving model to nextword0.h5\n",
            "Epoch 57/80\n",
            "2646/2646 [==============================] - 94s 36ms/step - loss: 0.3207 - accuracy: 0.8825 - val_loss: 15.9113 - val_accuracy: 0.3091\n",
            "\n",
            "Epoch 00057: accuracy did not improve from 0.88337\n",
            "Epoch 58/80\n",
            "2646/2646 [==============================] - 94s 36ms/step - loss: 0.3129 - accuracy: 0.8836 - val_loss: 16.8192 - val_accuracy: 0.3132\n",
            "\n",
            "Epoch 00058: accuracy improved from 0.88337 to 0.88360, saving model to nextword0.h5\n",
            "Epoch 59/80\n",
            "2646/2646 [==============================] - 95s 36ms/step - loss: 0.3168 - accuracy: 0.8822 - val_loss: 16.6017 - val_accuracy: 0.3137\n",
            "\n",
            "Epoch 00059: accuracy did not improve from 0.88360\n",
            "Epoch 60/80\n",
            "2646/2646 [==============================] - 94s 36ms/step - loss: 0.3108 - accuracy: 0.8824 - val_loss: 17.0182 - val_accuracy: 0.3111\n",
            "\n",
            "Epoch 00060: accuracy did not improve from 0.88360\n",
            "Epoch 61/80\n",
            "2646/2646 [==============================] - 95s 36ms/step - loss: 0.3052 - accuracy: 0.8831 - val_loss: 15.9405 - val_accuracy: 0.3112\n",
            "\n",
            "Epoch 00061: accuracy did not improve from 0.88360\n",
            "Epoch 62/80\n",
            "2646/2646 [==============================] - 94s 36ms/step - loss: 0.3031 - accuracy: 0.8838 - val_loss: 16.8244 - val_accuracy: 0.3119\n",
            "\n",
            "Epoch 00062: accuracy improved from 0.88360 to 0.88379, saving model to nextword0.h5\n",
            "Epoch 63/80\n",
            "2646/2646 [==============================] - 95s 36ms/step - loss: 0.3009 - accuracy: 0.8834 - val_loss: 16.7740 - val_accuracy: 0.3105\n",
            "\n",
            "Epoch 00063: accuracy did not improve from 0.88379\n",
            "Epoch 64/80\n",
            "2646/2646 [==============================] - 94s 36ms/step - loss: 0.3019 - accuracy: 0.8839 - val_loss: 17.0988 - val_accuracy: 0.3121\n",
            "\n",
            "Epoch 00064: accuracy improved from 0.88379 to 0.88391, saving model to nextword0.h5\n",
            "Epoch 65/80\n",
            "2646/2646 [==============================] - 95s 36ms/step - loss: 0.2971 - accuracy: 0.8842 - val_loss: 16.2637 - val_accuracy: 0.3083\n",
            "\n",
            "Epoch 00065: accuracy improved from 0.88391 to 0.88423, saving model to nextword0.h5\n",
            "Epoch 66/80\n",
            "2646/2646 [==============================] - 95s 36ms/step - loss: 0.2954 - accuracy: 0.8840 - val_loss: 17.3276 - val_accuracy: 0.3128\n",
            "\n",
            "Epoch 00066: accuracy did not improve from 0.88423\n",
            "Epoch 67/80\n",
            "2646/2646 [==============================] - 94s 36ms/step - loss: 0.2934 - accuracy: 0.8837 - val_loss: 16.6760 - val_accuracy: 0.3131\n",
            "\n",
            "Epoch 00067: accuracy did not improve from 0.88423\n",
            "Epoch 68/80\n",
            "2646/2646 [==============================] - 94s 36ms/step - loss: 0.2928 - accuracy: 0.8850 - val_loss: 16.2927 - val_accuracy: 0.3124\n",
            "\n",
            "Epoch 00068: accuracy improved from 0.88423 to 0.88501, saving model to nextword0.h5\n",
            "Epoch 69/80\n",
            "2646/2646 [==============================] - 95s 36ms/step - loss: 0.2886 - accuracy: 0.8858 - val_loss: 16.4753 - val_accuracy: 0.3088\n",
            "\n",
            "Epoch 00069: accuracy improved from 0.88501 to 0.88582, saving model to nextword0.h5\n",
            "Epoch 70/80\n",
            "2646/2646 [==============================] - 95s 36ms/step - loss: 0.2846 - accuracy: 0.8856 - val_loss: 16.9867 - val_accuracy: 0.3102\n",
            "\n",
            "Epoch 00070: accuracy did not improve from 0.88582\n",
            "Epoch 71/80\n",
            "2646/2646 [==============================] - 94s 36ms/step - loss: 0.2873 - accuracy: 0.8856 - val_loss: 16.6232 - val_accuracy: 0.3128\n",
            "\n",
            "Epoch 00071: accuracy did not improve from 0.88582\n",
            "Epoch 72/80\n",
            "2646/2646 [==============================] - 94s 36ms/step - loss: 0.2819 - accuracy: 0.8863 - val_loss: 17.0166 - val_accuracy: 0.3095\n",
            "\n",
            "Epoch 00072: accuracy improved from 0.88582 to 0.88627, saving model to nextword0.h5\n",
            "Epoch 73/80\n",
            "2646/2646 [==============================] - 95s 36ms/step - loss: 0.2820 - accuracy: 0.8853 - val_loss: 17.3218 - val_accuracy: 0.3128\n",
            "\n",
            "Epoch 00073: accuracy did not improve from 0.88627\n",
            "Epoch 74/80\n",
            "2646/2646 [==============================] - 94s 36ms/step - loss: 0.2832 - accuracy: 0.8858 - val_loss: 16.4601 - val_accuracy: 0.3111\n",
            "\n",
            "Epoch 00074: accuracy did not improve from 0.88627\n",
            "Epoch 75/80\n",
            "2646/2646 [==============================] - 94s 36ms/step - loss: 0.2792 - accuracy: 0.8854 - val_loss: 17.2139 - val_accuracy: 0.3143\n",
            "\n",
            "Epoch 00075: accuracy did not improve from 0.88627\n",
            "Epoch 76/80\n",
            "2646/2646 [==============================] - 95s 36ms/step - loss: 0.2740 - accuracy: 0.8861 - val_loss: 17.6067 - val_accuracy: 0.3120\n",
            "\n",
            "Epoch 00076: accuracy did not improve from 0.88627\n",
            "Epoch 77/80\n",
            "2646/2646 [==============================] - 95s 36ms/step - loss: 0.2791 - accuracy: 0.8853 - val_loss: 17.1506 - val_accuracy: 0.3131\n",
            "\n",
            "Epoch 00077: accuracy did not improve from 0.88627\n",
            "Epoch 78/80\n",
            "2646/2646 [==============================] - 94s 36ms/step - loss: 0.2725 - accuracy: 0.8871 - val_loss: 17.2913 - val_accuracy: 0.3119\n",
            "\n",
            "Epoch 00078: accuracy improved from 0.88627 to 0.88715, saving model to nextword0.h5\n",
            "Epoch 79/80\n",
            "2646/2646 [==============================] - 96s 36ms/step - loss: 0.2753 - accuracy: 0.8858 - val_loss: 18.2447 - val_accuracy: 0.3142\n",
            "\n",
            "Epoch 00079: accuracy did not improve from 0.88715\n",
            "Epoch 80/80\n",
            "2646/2646 [==============================] - 95s 36ms/step - loss: 0.2739 - accuracy: 0.8860 - val_loss: 17.4058 - val_accuracy: 0.3145\n",
            "\n",
            "Epoch 00080: accuracy did not improve from 0.88715\n"
          ]
        }
      ]
    },
    {
      "cell_type": "code",
      "metadata": {
        "id": "hFHc614DRVgB",
        "colab": {
          "base_uri": "https://localhost:8080/"
        },
        "outputId": "dfd2b175-28e4-4357-b843-d0e2f1ea1ecb"
      },
      "source": [
        "print(history0.history.keys())"
      ],
      "execution_count": 12,
      "outputs": [
        {
          "output_type": "stream",
          "name": "stdout",
          "text": [
            "dict_keys(['loss', 'accuracy', 'val_loss', 'val_accuracy', 'lr'])\n"
          ]
        }
      ]
    },
    {
      "cell_type": "code",
      "metadata": {
        "id": "mb9v6aKcy4tt"
      },
      "source": [
        "import matplotlib.pyplot as plt\n",
        "\n",
        "def performace_nn(history):\n",
        "  fig, (ax1, ax2) = plt.subplots(1, 2, figsize=[15,5])\n",
        "\n",
        "  ax1.plot(history.history['loss'], label='train')\n",
        "  ax1.plot(history.history['val_loss'], label='validation')\n",
        "  ax1.set_title('model loss')\n",
        "  ax1.set_ylabel('loss')\n",
        "  ax1.set_xlabel('epoch')\n",
        "  ax1.legend()\n",
        "\n",
        "  ax2.plot(history.history['accuracy'], label='train')\n",
        "  ax2.plot(history.history['val_accuracy'], label='validation')\n",
        "  ax2.set_title('model accuracy for train')\n",
        "  ax2.set_ylabel('accuracy')\n",
        "  ax2.set_xlabel('epoch')\n",
        "  ax2.legend()"
      ],
      "execution_count": 22,
      "outputs": []
    },
    {
      "cell_type": "code",
      "metadata": {
        "colab": {
          "base_uri": "https://localhost:8080/",
          "height": 350
        },
        "id": "DtxjhANpdDSF",
        "outputId": "120d4726-f1b9-4c74-90df-7457ac90a247"
      },
      "source": [
        "performace_nn(history0)"
      ],
      "execution_count": 23,
      "outputs": [
        {
          "output_type": "display_data",
          "data": {
            "image/png": "[encoded data removed]",
            "text/plain": [
              "<Figure size 1080x360 with 2 Axes>"
            ]
          },
          "metadata": {
            "needs_background": "light"
          }
        }
      ]
    },
    {
      "cell_type": "markdown",
      "metadata": {
        "id": "n6S_Gw6UYJif"
      },
      "source": [
        "**Which conclusions we can make?**\n",
        "\n",
        "- Is the NN well trained?\n",
        "- Is it under or overfitting?\n",
        "- Do the model generalize well?\n",
        "- Which can be done to improve the NN?"
      ]
    },
    {
      "cell_type": "code",
      "metadata": {
        "id": "m195HpqWO-J3"
      },
      "source": [
        "model1 = tf.keras.models.Sequential()\n",
        "model1.add(tf.keras.layers.Embedding(vocabulary_size, seq_len, input_length=seq_len))\n",
        "model1.add(tf.keras.layers.LSTM(50))\n",
        "model1.add(tf.keras.layers.Dense(vocabulary_size, activation='softmax'))\n",
        "print(model1.summary())\n",
        "\n",
        "model1.compile(loss='categorical_crossentropy', optimizer='adam', metrics=['accuracy'])"
      ],
      "execution_count": null,
      "outputs": []
    },
    {
      "cell_type": "code",
      "metadata": {
        "id": "IsLMsQG-anoh"
      },
      "source": [
        "es = tf.keras.callbacks.EarlyStopping(monitor = 'loss', min_delta = 1e-4, patience = 5, verbose = 1)\n",
        "rlr = tf.keras.callbacks.ReduceLROnPlateau(monitor = 'loss', factor = 0.2, patience = 3, min_lr=0.0001, verbose = 1)\n",
        "mcp = tf.keras.callbacks.ModelCheckpoint(filepath = 'nextword1.h5', monitor = 'accuracy', save_best_only = True, verbose = 1, mode='auto')"
      ],
      "execution_count": null,
      "outputs": []
    },
    {
      "cell_type": "code",
      "metadata": {
        "id": "73nLDHlDPRwu"
      },
      "source": [
        "history1 = model1.fit(train, target, epochs=80, validation_split=0.2, verbose=1, callbacks=[es, rlr, mcp])"
      ],
      "execution_count": null,
      "outputs": []
    },
    {
      "cell_type": "code",
      "metadata": {
        "id": "JzeyKxG4P7dn"
      },
      "source": [
        "performace_nn(history1)"
      ],
      "execution_count": null,
      "outputs": []
    },
    {
      "cell_type": "code",
      "metadata": {
        "id": "LfXgi7WQVNEs"
      },
      "source": [
        "model2 = tf.keras.models.Sequential()\n",
        "model2.add(tf.keras.layers.Embedding(vocabulary_size, seq_len, input_length=seq_len))\n",
        "model2.add(tf.keras.layers.LSTM(units=50,return_sequences=True, activation='relu'))\n",
        "model2.add(tf.keras.layers.Dropout(0.2))\n",
        "model2.add(tf.keras.layers.LSTM(units=20, activation='relu'))\n",
        "model2.add(tf.keras.layers.Dense(units=10, activation='relu'))\n",
        "model2.add(tf.keras.layers.Dropout(0.2))\n",
        "model2.add(tf.keras.layers.Dense(vocabulary_size, activation='softmax'))\n",
        "print(model2.summary())\n",
        "\n",
        "model2.compile(loss='categorical_crossentropy', optimizer='adam', metrics=['accuracy'])"
      ],
      "execution_count": null,
      "outputs": []
    },
    {
      "cell_type": "code",
      "metadata": {
        "id": "vyp97yoNdhZy"
      },
      "source": [
        "# Essential callbacks to follow the training model\n",
        "\n",
        "es = tf.keras.callbacks.EarlyStopping(monitor = 'loss', min_delta = 1e-4, patience = 5, verbose = 1)\n",
        "rlr = tf.keras.callbacks.ReduceLROnPlateau(monitor = 'loss', factor = 0.2, patience = 3, min_lr=0.0001, verbose = 1)\n",
        "mcp = tf.keras.callbacks.ModelCheckpoint(filepath = 'nextword1.h5', monitor = 'accuracy', save_best_only = True, verbose = 1, mode='auto')"
      ],
      "execution_count": null,
      "outputs": []
    },
    {
      "cell_type": "code",
      "metadata": {
        "id": "-MwczyLDdsv6"
      },
      "source": [
        "history2 = model2.fit(train, target, epochs=80, validation_split=0.2, verbose=1, callbacks=[es, rlr, mcp])"
      ],
      "execution_count": null,
      "outputs": []
    },
    {
      "cell_type": "code",
      "metadata": {
        "id": "a7Tw04H_dhJs"
      },
      "source": [
        "performace_nn(history2)"
      ],
      "execution_count": null,
      "outputs": []
    },
    {
      "cell_type": "markdown",
      "metadata": {
        "id": "UXpWSLEQdyXw"
      },
      "source": [
        "**Which did you observe?**\n",
        "\n",
        "**What was the best model?**\n",
        "\n",
        "**Is it really recommended use validation in this case?**\n",
        "\n",
        "**Why performace in validation is lower compared to train?**\n"
      ]
    },
    {
      "cell_type": "markdown",
      "metadata": {
        "id": "1gNE9wpuTht1"
      },
      "source": [
        "### 6) Testing the model\n",
        "\n",
        "Using the model to predict some words.\n",
        "\n",
        "Click here to read more about [widgets](https://ipywidgets.readthedocs.io/en/latest/examples/Using%20Interact.html)"
      ]
    },
    {
      "cell_type": "code",
      "metadata": {
        "id": "KYY-gV2UnGCL"
      },
      "source": [
        "model = tf.keras.models.load_model('nextword0.h5')\n",
        "tokenizer = pickle.load(open('tokenizer.pkl', 'rb'))"
      ],
      "execution_count": 24,
      "outputs": []
    },
    {
      "cell_type": "code",
      "metadata": {
        "colab": {
          "base_uri": "https://localhost:8080/",
          "height": 84,
          "referenced_widgets": [
            "702b043a919b45fb8e216c141ca3d6a2",
            "3a042149df374666bbba23fe78882bbc",
            "59e7b68211e440f5a1900b48a1f33b72",
            "7a6c1d92f6b24a5d935845a0f52f5408",
            "f1e46c36a9514dcfbca1717cb3188df2",
            "a9449ead63e346a4bdf736eb2ab15592",
            "8c1706ddf1e24cd29264e4f6d6f0570d"
          ]
        },
        "id": "atvf8lZoSC-X",
        "outputId": "5d5c1c81-82a0-4e18-9094-e798fda0f96f"
      },
      "source": [
        "from ipywidgets import widgets \n",
        "\n",
        "def predict_next_word(text):\n",
        "  input_text = text.strip().lower()\n",
        "  encoded_text = tokenizer.texts_to_sequences([input_text])[0]\n",
        "  pad_encoded = tf.keras.preprocessing.sequence.pad_sequences([encoded_text], maxlen=seq_len, truncating='pre')\n",
        "\n",
        "  for i in (model.predict(pad_encoded)[0]).argsort()[-1:][::-1]:\n",
        "    pred_word = tokenizer.index_word[i]\n",
        "\n",
        "  return pred_word\n",
        "\n",
        "\n",
        "widgets.interact(predict_next_word, text=input('press enter and typing your text...'));"
      ],
      "execution_count": 25,
      "outputs": [
        {
          "name": "stdout",
          "output_type": "stream",
          "text": [
            "press enter and typing your text...\n"
          ]
        },
        {
          "output_type": "display_data",
          "data": {
            "application/vnd.jupyter.widget-view+json": {
              "model_id": "702b043a919b45fb8e216c141ca3d6a2",
              "version_minor": 0,
              "version_major": 2
            },
            "text/plain": [
              "interactive(children=(Text(value='', description='text'), Output()), _dom_classes=('widget-interact',))"
            ]
          },
          "metadata": {}
        }
      ]
    }
  ]
}